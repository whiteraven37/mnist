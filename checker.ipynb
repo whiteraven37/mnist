{
 "cells": [
  {
   "cell_type": "code",
   "execution_count": null,
   "id": "e0178847",
   "metadata": {},
   "outputs": [
    {
     "name": "stderr",
     "output_type": "stream",
     "text": [
      "2025-10-03 21:46:09.895042: I external/local_xla/xla/tsl/cuda/cudart_stub.cc:31] Could not find cuda drivers on your machine, GPU will not be used.\n",
      "2025-10-03 21:46:09.918054: I tensorflow/core/util/port.cc:153] oneDNN custom operations are on. You may see slightly different numerical results due to floating-point round-off errors from different computation orders. To turn them off, set the environment variable `TF_ENABLE_ONEDNN_OPTS=0`.\n",
      "2025-10-03 21:46:10.629731: I tensorflow/core/platform/cpu_feature_guard.cc:210] This TensorFlow binary is optimized to use available CPU instructions in performance-critical operations.\n",
      "To enable the following instructions: AVX2 AVX_VNNI FMA, in other operations, rebuild TensorFlow with the appropriate compiler flags.\n",
      "2025-10-03 21:46:13.710659: I tensorflow/core/util/port.cc:153] oneDNN custom operations are on. You may see slightly different numerical results due to floating-point round-off errors from different computation orders. To turn them off, set the environment variable `TF_ENABLE_ONEDNN_OPTS=0`.\n",
      "2025-10-03 21:46:13.714422: I external/local_xla/xla/tsl/cuda/cudart_stub.cc:31] Could not find cuda drivers on your machine, GPU will not be used.\n"
     ]
    },
    {
     "name": "stdout",
     "output_type": "stream",
     "text": [
      "Analyzing cycles in MNIST digits...\n",
      "Digit | Avg Cycles | Samples\n",
      "------------------------------\n",
      "    0 |       1.86 |     100\n",
      "    1 |       1.00 |     100\n",
      "    2 |       1.25 |     100\n",
      "    3 |       1.05 |     100\n",
      "    4 |       1.03 |     100\n",
      "    5 |       1.11 |     100\n",
      "    6 |       1.38 |     100\n",
      "    7 |       0.95 |     100\n",
      "    8 |       2.10 |     100\n",
      "    9 |       1.67 |     100\n",
      "\n",
      "Expected cycle patterns:\n",
      "Digit 0: 1 cycle(s)\n",
      "Digit 1: 0 cycle(s)\n",
      "Digit 2: 0 cycle(s)\n",
      "Digit 3: 0 cycle(s)\n",
      "Digit 4: 1 cycle(s)\n",
      "Digit 5: 0 cycle(s)\n",
      "Digit 6: 1 cycle(s)\n",
      "Digit 7: 0 cycle(s)\n",
      "Digit 8: 2 cycle(s)\n",
      "Digit 9: 1 cycle(s)\n"
     ]
    }
   ],
   "source": [
    "import numpy as np\n",
    "import matplotlib.pyplot as plt\n",
    "from tensorflow.keras.datasets import mnist\n",
    "from skimage import measure, morphology\n",
    "from collections import defaultdict\n",
    "\n",
    "def count_cycles_in_digit(image):\n",
    "    binary = image > 128\n",
    "    cleaned = morphology.remove_small_objects(binary, min_size=10)\n",
    "    cleaned = morphology.remove_small_holes(cleaned, area_threshold=10)\n",
    "    contours = measure.find_contours(cleaned, 0.5)\n",
    "    cycle_count = 0\n",
    "    for contour in contours:\n",
    "        if len(contour) > 3:\n",
    "            start = contour[0]\n",
    "            end = contour[-1]\n",
    "            distance = np.sqrt((start[0]-end[0])**2 + (start[1]-end[1])**2)\n",
    "            if distance < 2.0: \n",
    "                cycle_count += 1\n",
    "    \n",
    "    return cycle_count, cleaned, contours\n",
    "\n",
    "(x_train, y_train), (x_test, y_test) = mnist.load_data()\n",
    "\n",
    "digit_cycles = defaultdict(list)\n",
    "\n",
    "for digit in range(10):\n",
    "    digit_indices = np.where(y_train == digit)[0][:100]\n",
    "    cycle_counts = []\n",
    "    \n",
    "    for idx in digit_indices:\n",
    "        image = x_train[idx]\n",
    "        cycles, _, _ = count_cycles_in_digit(image)\n",
    "        cycle_counts.append(cycles)\n",
    "        digit_cycles[digit].append(cycles)\n",
    "    \n",
    "    avg_cycles = np.mean(cycle_counts)\n",
    "    print(f\"{digit:5d} | {avg_cycles:10.2f} | {len(cycle_counts):7d}\")\n",
    "\n"
   ]
  }
 ],
 "metadata": {
  "kernelspec": {
   "display_name": "Python 3",
   "language": "python",
   "name": "python3"
  },
  "language_info": {
   "codemirror_mode": {
    "name": "ipython",
    "version": 3
   },
   "file_extension": ".py",
   "mimetype": "text/x-python",
   "name": "python",
   "nbconvert_exporter": "python",
   "pygments_lexer": "ipython3",
   "version": "3.10.12"
  }
 },
 "nbformat": 4,
 "nbformat_minor": 5
}
